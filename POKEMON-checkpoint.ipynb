{
 "cells": [
  {
   "cell_type": "code",
   "execution_count": 26,
   "id": "4d1ade1b-c5f3-4fd8-b76f-44dd6295443f",
   "metadata": {},
   "outputs": [],
   "source": [
    "# Import necessary libraries\n",
    "import pandas as pd\n",
    "import numpy as np\n",
    "import seaborn as sns\n",
    "import matplotlib.pyplot as plt\n",
    "from sklearn.preprocessing import StandardScaler, OneHotEncoder\n",
    "from sklearn.feature_selection import SelectKBest, chi2\n",
    "from sklearn.linear_model import LogisticRegression\n",
    "from sklearn.model_selection import train_test_split\n",
    "from sklearn.metrics import accuracy_score, precision_score, recall_score, f1_score"
   ]
  },
  {
   "cell_type": "code",
   "execution_count": 27,
   "id": "83bc4f23-37a1-46d8-9705-aaca7335806b",
   "metadata": {},
   "outputs": [],
   "source": [
    "# Load dataset\n",
    "df = pd.read_csv('pokemon.csv')"
   ]
  },
  {
   "cell_type": "code",
   "execution_count": 28,
   "id": "1d535995-bd30-4bcd-a4f8-3158278a83f4",
   "metadata": {},
   "outputs": [],
   "source": [
    "# Preprocessing\n",
    "# One-hot encoding\n",
    "df_ohe = pd.get_dummies(df.drop('Type 1', axis=1))"
   ]
  },
  {
   "cell_type": "code",
   "execution_count": 29,
   "id": "c42bcdab-1063-47ea-b360-f3f69a51831f",
   "metadata": {},
   "outputs": [],
   "source": [
    "# Normalisasi\n",
    "scaler = StandardScaler()\n",
    "df_scaled = pd.DataFrame(scaler.fit_transform(df_ohe), columns=df_ohe.columns)"
   ]
  },
  {
   "cell_type": "code",
   "execution_count": 30,
   "id": "6c5ba6ac-5700-4bc3-bf25-e03238438636",
   "metadata": {},
   "outputs": [],
   "source": [
    "# Menambahkan kolom Type 1 kembali\n",
    "df_scaled['Type 1'] = df['Type 1']"
   ]
  },
  {
   "cell_type": "code",
   "execution_count": 31,
   "id": "3ff464ea-4c77-46ba-aa88-475a6a4ad440",
   "metadata": {},
   "outputs": [],
   "source": [
    "# Pemilihan Fitur\n",
    "# Metode Filter\n",
    "selector = SelectKBest(chi2, k=5)\n",
    "X_selected = selector.fit_transform(np.abs(df_scaled.drop('Type 1', axis=1)), df['Type 1'])"
   ]
  },
  {
   "cell_type": "code",
   "execution_count": 32,
   "id": "e6b9afc6-fe3f-403f-af4d-de53d0b1a695",
   "metadata": {},
   "outputs": [
    {
     "ename": "NameError",
     "evalue": "name 'features' is not defined",
     "output_type": "error",
     "traceback": [
      "\u001b[1;31m---------------------------------------------------------------------------\u001b[0m",
      "\u001b[1;31mNameError\u001b[0m                                 Traceback (most recent call last)",
      "Cell \u001b[1;32mIn[32], line 2\u001b[0m\n\u001b[0;32m      1\u001b[0m \u001b[38;5;66;03m# Ambil nama fitur yang dipilih\u001b[39;00m\n\u001b[1;32m----> 2\u001b[0m selected_features \u001b[38;5;241m=\u001b[39m [features[i] \u001b[38;5;28;01mfor\u001b[39;00m i \u001b[38;5;129;01min\u001b[39;00m selector\u001b[38;5;241m.\u001b[39mget_support(indices\u001b[38;5;241m=\u001b[39m\u001b[38;5;28;01mTrue\u001b[39;00m)]\n",
      "Cell \u001b[1;32mIn[32], line 2\u001b[0m, in \u001b[0;36m<listcomp>\u001b[1;34m(.0)\u001b[0m\n\u001b[0;32m      1\u001b[0m \u001b[38;5;66;03m# Ambil nama fitur yang dipilih\u001b[39;00m\n\u001b[1;32m----> 2\u001b[0m selected_features \u001b[38;5;241m=\u001b[39m [features[i] \u001b[38;5;28;01mfor\u001b[39;00m i \u001b[38;5;129;01min\u001b[39;00m selector\u001b[38;5;241m.\u001b[39mget_support(indices\u001b[38;5;241m=\u001b[39m\u001b[38;5;28;01mTrue\u001b[39;00m)]\n",
      "\u001b[1;31mNameError\u001b[0m: name 'features' is not defined"
     ]
    }
   ],
   "source": [
    "features = df_scaled.columns.tolist()\n",
    "\n",
    "# Ambil nama fitur yang dipilih\n",
    "selected_features = [features[i] for i in selector.get_support(indices=True)]"
   ]
  },
  {
   "cell_type": "code",
   "execution_count": null,
   "id": "b4cf19af-9dcc-4216-a2be-26b305fce718",
   "metadata": {},
   "outputs": [],
   "source": [
    "# Buat dataframe dari hasil pemilihan fitur\n",
    "df_selected = df_scaled[selected_features]"
   ]
  },
  {
   "cell_type": "code",
   "execution_count": null,
   "id": "4741ff72-a9c9-4338-902e-38bf0ddddf92",
   "metadata": {},
   "outputs": [],
   "source": [
    "# Buat heatmap\n",
    "plt.figure(figsize=(10, 8))\n",
    "sns.heatmap(df_selected.corr(), annot=True, cmap=\"coolwarm\")\n",
    "plt.title(\"Heatmap - Correlation Matrix\")\n",
    "plt.show()"
   ]
  },
  {
   "cell_type": "code",
   "execution_count": null,
   "id": "bf5d83a7-676d-4c47-a4c8-d0397cd45a20",
   "metadata": {},
   "outputs": [],
   "source": [
    "# Evaluasi\n",
    "# Split dataset menjadi training dan testing\n",
    "X_train, X_test, y_train, y_test = train_test_split(X_selected, df['Type 1'], test_size=0.3, random_state=42)"
   ]
  },
  {
   "cell_type": "code",
   "execution_count": null,
   "id": "cbdca7cd-1468-4919-902d-f37b9abc7928",
   "metadata": {},
   "outputs": [],
   "source": [
    "# Latih model\n",
    "model = LogisticRegression()\n",
    "model.fit(X_train, y_train)"
   ]
  },
  {
   "cell_type": "code",
   "execution_count": null,
   "id": "cf6a50af-257d-4046-87e4-9d6e01a9ccff",
   "metadata": {},
   "outputs": [],
   "source": [
    "# Uji model\n",
    "y_pred = model.predict(X_test)"
   ]
  },
  {
   "cell_type": "code",
   "execution_count": null,
   "id": "998b071a-d555-42ed-a199-5a116e32bbbb",
   "metadata": {},
   "outputs": [],
   "source": [
    "# Evaluasi kinerja model\n",
    "print(\"Accuracy:\", accuracy_score(y_test, y_pred))\n",
    "print(\"Precision:\", precision_score(y_test, y_pred, average='macro'))\n",
    "print(\"Recall:\", recall_score(y_test, y_pred, average='macro'))\n",
    "print(\"F1-score:\", f1_score(y_test, y_pred, average='macro'))"
   ]
  },
  {
   "cell_type": "code",
   "execution_count": null,
   "id": "4b7dee5a-f089-49d2-898e-ee8fda8cead2",
   "metadata": {},
   "outputs": [],
   "source": [
    "# Hasil dataframe yang sudah dipreprocess\n",
    "print(\"\\nDataframe after preprocessing:\\n\", df_scaled)"
   ]
  },
  {
   "cell_type": "code",
   "execution_count": null,
   "id": "031360ce-f0ab-490b-9143-a3c7dd14185a",
   "metadata": {},
   "outputs": [],
   "source": [
    "# Hasil pemilihan fitur\n",
    "print(\"\\nSelected features:\", selected_features)"
   ]
  },
  {
   "cell_type": "code",
   "execution_count": null,
   "id": "f7a9418d-1edc-45a8-b872-a302795c2364",
   "metadata": {},
   "outputs": [],
   "source": [
    "# Hasil evaluasi model\n",
    "print(\"\\nEvaluation results:\")\n",
    "print(\"Accuracy:\", accuracy_score(y_test, y_pred))\n",
    "print(\"Precision:\", precision_score(y_test, y_pred, average='macro'))\n",
    "print(\"Recall:\", recall_score(y_test, y_pred, average='macro'))\n",
    "print(\"F1-score:\", f1_score(y_test, y_pred, average='macro'))"
   ]
  }
 ],
 "metadata": {
  "kernelspec": {
   "display_name": "Python 3 (ipykernel)",
   "language": "python",
   "name": "python3"
  },
  "language_info": {
   "codemirror_mode": {
    "name": "ipython",
    "version": 3
   },
   "file_extension": ".py",
   "mimetype": "text/x-python",
   "name": "python",
   "nbconvert_exporter": "python",
   "pygments_lexer": "ipython3",
   "version": "3.11.7"
  }
 },
 "nbformat": 4,
 "nbformat_minor": 5
}
